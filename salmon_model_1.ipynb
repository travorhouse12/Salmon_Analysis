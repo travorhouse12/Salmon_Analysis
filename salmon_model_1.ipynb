{
 "cells": [
  {
   "cell_type": "code",
   "execution_count": 1,
   "id": "d6dd3295",
   "metadata": {},
   "outputs": [],
   "source": [
    "import numpy as np\n",
    "import pandas as pd\n",
    "from pathlib import Path\n",
    "from collections import Counter\n",
    "from sklearn.model_selection import train_test_split"
   ]
  },
  {
   "cell_type": "code",
   "execution_count": null,
   "id": "ba0da707",
   "metadata": {},
   "outputs": [],
   "source": [
    "# pgAdmnin interface"
   ]
  },
  {
   "cell_type": "code",
   "execution_count": 2,
   "id": "a950044f",
   "metadata": {},
   "outputs": [],
   "source": [
    "# Pull in Data\n",
    "\n",
    "# Isolate the Stream we want to teach the model on\n",
    "\n",
    "# Split stream name and year"
   ]
  },
  {
   "cell_type": "code",
   "execution_count": null,
   "id": "cd4312f2",
   "metadata": {},
   "outputs": [],
   "source": [
    "# Create our Feature\n",
    "# X = df.drop(columns=\"Number Of Spawners\")\n",
    "\n",
    "# Create our Target\n",
    "# y = df[\"Number Of Spawners\"]"
   ]
  },
  {
   "cell_type": "code",
   "execution_count": null,
   "id": "709520d7",
   "metadata": {},
   "outputs": [],
   "source": [
    "# Split data into test and train\n",
    "# X_train, X_test, y_train, y_test = train_test_split(X, y, random_state=1)\n",
    "# Counter(y_train)"
   ]
  },
  {
   "cell_type": "code",
   "execution_count": null,
   "id": "c1beb611",
   "metadata": {},
   "outputs": [],
   "source": [
    "# Set up a regression ML model"
   ]
  },
  {
   "cell_type": "code",
   "execution_count": null,
   "id": "dd36bd65",
   "metadata": {},
   "outputs": [],
   "source": [
    "# Score the model"
   ]
  }
 ],
 "metadata": {
  "kernelspec": {
   "display_name": "mlenv",
   "language": "python",
   "name": "mlenv"
  },
  "language_info": {
   "codemirror_mode": {
    "name": "ipython",
    "version": 3
   },
   "file_extension": ".py",
   "mimetype": "text/x-python",
   "name": "python",
   "nbconvert_exporter": "python",
   "pygments_lexer": "ipython3",
   "version": "3.7.11"
  }
 },
 "nbformat": 4,
 "nbformat_minor": 5
}
